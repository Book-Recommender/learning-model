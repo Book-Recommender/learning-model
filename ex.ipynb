{
 "cells": [
  {
   "cell_type": "code",
   "execution_count": 1,
   "metadata": {},
   "outputs": [],
   "source": [
    "from final_model import RecommenderPipeline"
   ]
  },
  {
   "cell_type": "code",
   "execution_count": 7,
   "metadata": {},
   "outputs": [
    {
     "ename": "IndexError",
     "evalue": "index 24000 is out of bounds for axis 0 with size 15997",
     "output_type": "error",
     "traceback": [
      "\u001b[1;31m---------------------------------------------------------------------------\u001b[0m",
      "\u001b[1;31mIndexError\u001b[0m                                Traceback (most recent call last)",
      "Cell \u001b[1;32mIn[7], line 4\u001b[0m\n\u001b[0;32m      1\u001b[0m recommender \u001b[38;5;241m=\u001b[39m RecommenderPipeline()\n\u001b[0;32m      2\u001b[0m recommender\u001b[38;5;241m.\u001b[39mfit()\n\u001b[1;32m----> 4\u001b[0m \u001b[43mrecommender\u001b[49m\u001b[38;5;241;43m.\u001b[39;49m\u001b[43mrecommend\u001b[49m\u001b[43m(\u001b[49m\u001b[38;5;241;43m24000\u001b[39;49m\u001b[43m)\u001b[49m\n",
      "File \u001b[1;32mc:\\Users\\kjeet\\OneDrive\\Documents\\GitHub\\learning-model\\final_model.py:64\u001b[0m, in \u001b[0;36mRecommenderPipeline.recommend\u001b[1;34m(self, user_index, num_recommendations)\u001b[0m\n\u001b[0;32m     62\u001b[0m \u001b[38;5;28;01mdef\u001b[39;00m \u001b[38;5;21mrecommend\u001b[39m(\u001b[38;5;28mself\u001b[39m, user_index, num_recommendations \u001b[38;5;241m=\u001b[39m \u001b[38;5;241m20\u001b[39m):\n\u001b[1;32m---> 64\u001b[0m     user_predictions \u001b[38;5;241m=\u001b[39m \u001b[38;5;28;43mself\u001b[39;49m\u001b[38;5;241;43m.\u001b[39;49m\u001b[43mpredicted_matrix\u001b[49m\u001b[43m[\u001b[49m\u001b[43muser_index\u001b[49m\u001b[43m,\u001b[49m\u001b[43m \u001b[49m\u001b[43m:\u001b[49m\u001b[43m]\u001b[49m\n\u001b[0;32m     66\u001b[0m     \u001b[38;5;66;03m#Recursively find and select the indices of the top N items (highest predicted ratings)\u001b[39;00m\n\u001b[0;32m     67\u001b[0m     top_n_items \u001b[38;5;241m=\u001b[39m np\u001b[38;5;241m.\u001b[39margsort(user_predictions)[::\u001b[38;5;241m-\u001b[39m\u001b[38;5;241m1\u001b[39m][:num_recommendations]\n",
      "\u001b[1;31mIndexError\u001b[0m: index 24000 is out of bounds for axis 0 with size 15997"
     ]
    }
   ],
   "source": [
    "recommender = RecommenderPipeline()\n",
    "recommender.fit()\n",
    "\n",
    "recommender.recommend(24000)"
   ]
  },
  {
   "cell_type": "code",
   "execution_count": 3,
   "metadata": {},
   "outputs": [
    {
     "data": {
      "text/html": [
       "<div>\n",
       "<style scoped>\n",
       "    .dataframe tbody tr th:only-of-type {\n",
       "        vertical-align: middle;\n",
       "    }\n",
       "\n",
       "    .dataframe tbody tr th {\n",
       "        vertical-align: top;\n",
       "    }\n",
       "\n",
       "    .dataframe thead th {\n",
       "        text-align: right;\n",
       "    }\n",
       "</style>\n",
       "<table border=\"1\" class=\"dataframe\">\n",
       "  <thead>\n",
       "    <tr style=\"text-align: right;\">\n",
       "      <th></th>\n",
       "      <th>Book-Title</th>\n",
       "      <th>ISBN</th>\n",
       "    </tr>\n",
       "  </thead>\n",
       "  <tbody>\n",
       "    <tr>\n",
       "      <th>0</th>\n",
       "      <td>Suppressed Inventions &amp;amp; Other Discoveries</td>\n",
       "      <td>0895298090</td>\n",
       "    </tr>\n",
       "    <tr>\n",
       "      <th>1</th>\n",
       "      <td>Be Angry [but Don't Blow It] &amp;lt;i&gt;maintaining...</td>\n",
       "      <td>0785269886</td>\n",
       "    </tr>\n",
       "    <tr>\n",
       "      <th>2</th>\n",
       "      <td>Wayside School Gets a Little Stranger</td>\n",
       "      <td>0807281530</td>\n",
       "    </tr>\n",
       "    <tr>\n",
       "      <th>3</th>\n",
       "      <td>Selected Poems 1957-1981</td>\n",
       "      <td>0571119166</td>\n",
       "    </tr>\n",
       "    <tr>\n",
       "      <th>4</th>\n",
       "      <td>Libertad Y Creatividad En LA Educacion: En LA ...</td>\n",
       "      <td>8475094015</td>\n",
       "    </tr>\n",
       "    <tr>\n",
       "      <th>5</th>\n",
       "      <td>Vom GlÃ?Â¼ck in den StÃ?Â¤dten.</td>\n",
       "      <td>3552051783</td>\n",
       "    </tr>\n",
       "    <tr>\n",
       "      <th>6</th>\n",
       "      <td>The Science in Science Fiction</td>\n",
       "      <td>0394530101</td>\n",
       "    </tr>\n",
       "    <tr>\n",
       "      <th>7</th>\n",
       "      <td>Noah's Garden: Restoring the Ecology of Our Ow...</td>\n",
       "      <td>0395653738</td>\n",
       "    </tr>\n",
       "    <tr>\n",
       "      <th>8</th>\n",
       "      <td>Ice and Rapture</td>\n",
       "      <td>0843933763</td>\n",
       "    </tr>\n",
       "    <tr>\n",
       "      <th>9</th>\n",
       "      <td>Earth: Pleiadian Keys to the Living Library</td>\n",
       "      <td>1879181215</td>\n",
       "    </tr>\n",
       "    <tr>\n",
       "      <th>10</th>\n",
       "      <td>The Penguin Dictionary of Modern History, 1789...</td>\n",
       "      <td>0140510265</td>\n",
       "    </tr>\n",
       "    <tr>\n",
       "      <th>11</th>\n",
       "      <td>The Tafts (First Families)</td>\n",
       "      <td>0896866475</td>\n",
       "    </tr>\n",
       "    <tr>\n",
       "      <th>12</th>\n",
       "      <td>The Pentagon's New Map</td>\n",
       "      <td>0399151753</td>\n",
       "    </tr>\n",
       "    <tr>\n",
       "      <th>13</th>\n",
       "      <td>La Divina Comedia</td>\n",
       "      <td>840803085X</td>\n",
       "    </tr>\n",
       "    <tr>\n",
       "      <th>14</th>\n",
       "      <td>Inu-Yasha : A Feudal Fairy Tale, Vol. 1</td>\n",
       "      <td>1569312621</td>\n",
       "    </tr>\n",
       "    <tr>\n",
       "      <th>15</th>\n",
       "      <td>Rhymes and Songs for the Very Young</td>\n",
       "      <td>0760703604</td>\n",
       "    </tr>\n",
       "    <tr>\n",
       "      <th>16</th>\n",
       "      <td>The Illustrated Guide to Celtic Mythology</td>\n",
       "      <td>0517121794</td>\n",
       "    </tr>\n",
       "    <tr>\n",
       "      <th>17</th>\n",
       "      <td>Arthur C. Clarke's mysterious world</td>\n",
       "      <td>0002165368</td>\n",
       "    </tr>\n",
       "    <tr>\n",
       "      <th>18</th>\n",
       "      <td>If I Ran the Zoo-OSI</td>\n",
       "      <td>0394845455</td>\n",
       "    </tr>\n",
       "    <tr>\n",
       "      <th>19</th>\n",
       "      <td>Taoist I Ching</td>\n",
       "      <td>0394743873</td>\n",
       "    </tr>\n",
       "  </tbody>\n",
       "</table>\n",
       "</div>"
      ],
      "text/plain": [
       "                                           Book-Title        ISBN\n",
       "0       Suppressed Inventions &amp; Other Discoveries  0895298090\n",
       "1   Be Angry [but Don't Blow It] &lt;i>maintaining...  0785269886\n",
       "2               Wayside School Gets a Little Stranger  0807281530\n",
       "3                            Selected Poems 1957-1981  0571119166\n",
       "4   Libertad Y Creatividad En LA Educacion: En LA ...  8475094015\n",
       "5                     Vom GlÃ?Â¼ck in den StÃ?Â¤dten.  3552051783\n",
       "6                      The Science in Science Fiction  0394530101\n",
       "7   Noah's Garden: Restoring the Ecology of Our Ow...  0395653738\n",
       "8                                     Ice and Rapture  0843933763\n",
       "9         Earth: Pleiadian Keys to the Living Library  1879181215\n",
       "10  The Penguin Dictionary of Modern History, 1789...  0140510265\n",
       "11                         The Tafts (First Families)  0896866475\n",
       "12                             The Pentagon's New Map  0399151753\n",
       "13                                  La Divina Comedia  840803085X\n",
       "14            Inu-Yasha : A Feudal Fairy Tale, Vol. 1  1569312621\n",
       "15                Rhymes and Songs for the Very Young  0760703604\n",
       "16          The Illustrated Guide to Celtic Mythology  0517121794\n",
       "17                Arthur C. Clarke's mysterious world  0002165368\n",
       "18                               If I Ran the Zoo-OSI  0394845455\n",
       "19                                     Taoist I Ching  0394743873"
      ]
     },
     "execution_count": 3,
     "metadata": {},
     "output_type": "execute_result"
    }
   ],
   "source": [
    "recommender.cold_recommend()"
   ]
  },
  {
   "cell_type": "code",
   "execution_count": 4,
   "metadata": {},
   "outputs": [],
   "source": [
    "from final_model import user_rating_books_ds"
   ]
  },
  {
   "cell_type": "code",
   "execution_count": 5,
   "metadata": {},
   "outputs": [
    {
     "data": {
      "text/html": [
       "<div>\n",
       "<style scoped>\n",
       "    .dataframe tbody tr th:only-of-type {\n",
       "        vertical-align: middle;\n",
       "    }\n",
       "\n",
       "    .dataframe tbody tr th {\n",
       "        vertical-align: top;\n",
       "    }\n",
       "\n",
       "    .dataframe thead th {\n",
       "        text-align: right;\n",
       "    }\n",
       "</style>\n",
       "<table border=\"1\" class=\"dataframe\">\n",
       "  <thead>\n",
       "    <tr style=\"text-align: right;\">\n",
       "      <th></th>\n",
       "      <th>User-ID</th>\n",
       "      <th>Book-Title</th>\n",
       "      <th>Book-Rating</th>\n",
       "    </tr>\n",
       "  </thead>\n",
       "  <tbody>\n",
       "    <tr>\n",
       "      <th>0</th>\n",
       "      <td>2</td>\n",
       "      <td>Classical Mythology</td>\n",
       "      <td>0</td>\n",
       "    </tr>\n",
       "    <tr>\n",
       "      <th>1</th>\n",
       "      <td>8</td>\n",
       "      <td>Clara Callan</td>\n",
       "      <td>5</td>\n",
       "    </tr>\n",
       "    <tr>\n",
       "      <th>2</th>\n",
       "      <td>8</td>\n",
       "      <td>Decision in Normandy</td>\n",
       "      <td>0</td>\n",
       "    </tr>\n",
       "    <tr>\n",
       "      <th>3</th>\n",
       "      <td>8</td>\n",
       "      <td>Flu: The Story of the Great Influenza Pandemic...</td>\n",
       "      <td>0</td>\n",
       "    </tr>\n",
       "    <tr>\n",
       "      <th>4</th>\n",
       "      <td>8</td>\n",
       "      <td>The Mummies of Urumchi</td>\n",
       "      <td>0</td>\n",
       "    </tr>\n",
       "    <tr>\n",
       "      <th>...</th>\n",
       "      <td>...</td>\n",
       "      <td>...</td>\n",
       "      <td>...</td>\n",
       "    </tr>\n",
       "    <tr>\n",
       "      <th>1031131</th>\n",
       "      <td>278854</td>\n",
       "      <td>Kat Scratch Fever (Kat Colorado Mysteries)</td>\n",
       "      <td>7</td>\n",
       "    </tr>\n",
       "    <tr>\n",
       "      <th>1031132</th>\n",
       "      <td>278854</td>\n",
       "      <td>The Cat Who Ate Danish Modern (Cat Who... (Pap...</td>\n",
       "      <td>0</td>\n",
       "    </tr>\n",
       "    <tr>\n",
       "      <th>1031133</th>\n",
       "      <td>278854</td>\n",
       "      <td>In Her Day</td>\n",
       "      <td>6</td>\n",
       "    </tr>\n",
       "    <tr>\n",
       "      <th>1031134</th>\n",
       "      <td>278854</td>\n",
       "      <td>Wicked Fix : A Home Repair is Homicide Mystery...</td>\n",
       "      <td>0</td>\n",
       "    </tr>\n",
       "    <tr>\n",
       "      <th>1031135</th>\n",
       "      <td>278854</td>\n",
       "      <td>Ashes to Ashes</td>\n",
       "      <td>8</td>\n",
       "    </tr>\n",
       "  </tbody>\n",
       "</table>\n",
       "<p>1031136 rows × 3 columns</p>\n",
       "</div>"
      ],
      "text/plain": [
       "         User-ID  ... Book-Rating\n",
       "0              2  ...           0\n",
       "1              8  ...           5\n",
       "2              8  ...           0\n",
       "3              8  ...           0\n",
       "4              8  ...           0\n",
       "...          ...  ...         ...\n",
       "1031131   278854  ...           7\n",
       "1031132   278854  ...           0\n",
       "1031133   278854  ...           6\n",
       "1031134   278854  ...           0\n",
       "1031135   278854  ...           8\n",
       "\n",
       "[1031136 rows x 3 columns]"
      ]
     },
     "execution_count": 5,
     "metadata": {},
     "output_type": "execute_result"
    }
   ],
   "source": [
    "user_rating_books_ds"
   ]
  },
  {
   "cell_type": "code",
   "execution_count": 17,
   "metadata": {},
   "outputs": [
    {
     "data": {
      "text/plain": [
       "False"
      ]
     },
     "execution_count": 17,
     "metadata": {},
     "output_type": "execute_result"
    }
   ],
   "source": [
    "user_rating_books_ds[user_rating_books_ds['User-ID'] == 2].empty"
   ]
  },
  {
   "cell_type": "code",
   "execution_count": 9,
   "metadata": {},
   "outputs": [
    {
     "data": {
      "text/plain": [
       "278854"
      ]
     },
     "execution_count": 9,
     "metadata": {},
     "output_type": "execute_result"
    }
   ],
   "source": [
    "import numpy as np\n",
    "np.max(user_rating_books_ds['User-ID'] )"
   ]
  },
  {
   "cell_type": "code",
   "execution_count": null,
   "metadata": {},
   "outputs": [],
   "source": []
  }
 ],
 "metadata": {
  "kernelspec": {
   "display_name": "Python 3",
   "language": "python",
   "name": "python3"
  },
  "language_info": {
   "codemirror_mode": {
    "name": "ipython",
    "version": 3
   },
   "file_extension": ".py",
   "mimetype": "text/x-python",
   "name": "python",
   "nbconvert_exporter": "python",
   "pygments_lexer": "ipython3",
   "version": "3.11.9"
  }
 },
 "nbformat": 4,
 "nbformat_minor": 2
}
