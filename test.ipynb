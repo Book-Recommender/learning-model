{
 "cells": [
  {
   "cell_type": "code",
   "execution_count": 1,
   "metadata": {},
   "outputs": [
    {
     "name": "stderr",
     "output_type": "stream",
     "text": [
      "c:\\Users\\kjeet\\OneDrive\\Documents\\GitHub\\learning-model\\model.py:10: DtypeWarning: Columns (3) have mixed types. Specify dtype option on import or set low_memory=False.\n",
      "  books_data = pd.read_csv(\"data/Books.csv\")\n"
     ]
    }
   ],
   "source": [
    "from model import RecommenderPipeline\n",
    "import numpy as np\n",
    "import pandas as pd"
   ]
  },
  {
   "cell_type": "code",
   "execution_count": 45,
   "metadata": {},
   "outputs": [
    {
     "data": {
      "text/plain": [
       "100"
      ]
     },
     "execution_count": 45,
     "metadata": {},
     "output_type": "execute_result"
    }
   ],
   "source": [
    "a = RecommenderPipeline()\n",
    "b = a.cold_recommend(100)\n",
    "len(b)"
   ]
  },
  {
   "cell_type": "code",
   "execution_count": 46,
   "metadata": {},
   "outputs": [
    {
     "data": {
      "text/html": [
       "<div>\n",
       "<style scoped>\n",
       "    .dataframe tbody tr th:only-of-type {\n",
       "        vertical-align: middle;\n",
       "    }\n",
       "\n",
       "    .dataframe tbody tr th {\n",
       "        vertical-align: top;\n",
       "    }\n",
       "\n",
       "    .dataframe thead th {\n",
       "        text-align: right;\n",
       "    }\n",
       "</style>\n",
       "<table border=\"1\" class=\"dataframe\">\n",
       "  <thead>\n",
       "    <tr style=\"text-align: right;\">\n",
       "      <th></th>\n",
       "      <th>Book-Title</th>\n",
       "      <th>Rating</th>\n",
       "      <th>ISBN</th>\n",
       "    </tr>\n",
       "  </thead>\n",
       "  <tbody>\n",
       "    <tr>\n",
       "      <th>116705</th>\n",
       "      <td>Marlon Brando: The Only Contender</td>\n",
       "      <td>9.0</td>\n",
       "      <td>031251543X</td>\n",
       "    </tr>\n",
       "    <tr>\n",
       "      <th>109840</th>\n",
       "      <td>Lizzie McGuire: The Rise and Fall of the Kate ...</td>\n",
       "      <td>9.5</td>\n",
       "      <td>0786845414</td>\n",
       "    </tr>\n",
       "    <tr>\n",
       "      <th>234496</th>\n",
       "      <td>Why I Believe</td>\n",
       "      <td>9.0</td>\n",
       "      <td>1570087237</td>\n",
       "    </tr>\n",
       "    <tr>\n",
       "      <th>12959</th>\n",
       "      <td>Amkoullel, l'enfant Peul</td>\n",
       "      <td>4.0</td>\n",
       "      <td>229030641X</td>\n",
       "    </tr>\n",
       "    <tr>\n",
       "      <th>25525</th>\n",
       "      <td>Bloodfire</td>\n",
       "      <td>7.0</td>\n",
       "      <td>0380714469</td>\n",
       "    </tr>\n",
       "    <tr>\n",
       "      <th>...</th>\n",
       "      <td>...</td>\n",
       "      <td>...</td>\n",
       "      <td>...</td>\n",
       "    </tr>\n",
       "    <tr>\n",
       "      <th>168965</th>\n",
       "      <td>Suffering Is Optional: Three Keys to Freedom a...</td>\n",
       "      <td>10.0</td>\n",
       "      <td>0963625586</td>\n",
       "    </tr>\n",
       "    <tr>\n",
       "      <th>94518</th>\n",
       "      <td>It Must Have Been an Angel (Redwood Paperback;...</td>\n",
       "      <td>9.0</td>\n",
       "      <td>0816303630</td>\n",
       "    </tr>\n",
       "    <tr>\n",
       "      <th>185684</th>\n",
       "      <td>The Easter Story: The Beginners Bible (Picture...</td>\n",
       "      <td>9.0</td>\n",
       "      <td>0679875344</td>\n",
       "    </tr>\n",
       "    <tr>\n",
       "      <th>212893</th>\n",
       "      <td>The Watchers Out of Time (Masters of Horror)</td>\n",
       "      <td>9.0</td>\n",
       "      <td>0881847690</td>\n",
       "    </tr>\n",
       "    <tr>\n",
       "      <th>131724</th>\n",
       "      <td>Nowhere Land (Remnants (Paperback))</td>\n",
       "      <td>10.0</td>\n",
       "      <td>0590881930</td>\n",
       "    </tr>\n",
       "  </tbody>\n",
       "</table>\n",
       "<p>100 rows × 3 columns</p>\n",
       "</div>"
      ],
      "text/plain": [
       "                                               Book-Title  Rating        ISBN\n",
       "116705                  Marlon Brando: The Only Contender     9.0  031251543X\n",
       "109840  Lizzie McGuire: The Rise and Fall of the Kate ...     9.5  0786845414\n",
       "234496                                      Why I Believe     9.0  1570087237\n",
       "12959                            Amkoullel, l'enfant Peul     4.0  229030641X\n",
       "25525                                           Bloodfire     7.0  0380714469\n",
       "...                                                   ...     ...         ...\n",
       "168965  Suffering Is Optional: Three Keys to Freedom a...    10.0  0963625586\n",
       "94518   It Must Have Been an Angel (Redwood Paperback;...     9.0  0816303630\n",
       "185684  The Easter Story: The Beginners Bible (Picture...     9.0  0679875344\n",
       "212893       The Watchers Out of Time (Masters of Horror)     9.0  0881847690\n",
       "131724                Nowhere Land (Remnants (Paperback))    10.0  0590881930\n",
       "\n",
       "[100 rows x 3 columns]"
      ]
     },
     "execution_count": 46,
     "metadata": {},
     "output_type": "execute_result"
    }
   ],
   "source": [
    "b"
   ]
  },
  {
   "cell_type": "code",
   "execution_count": null,
   "metadata": {},
   "outputs": [],
   "source": []
  }
 ],
 "metadata": {
  "kernelspec": {
   "display_name": "Python 3",
   "language": "python",
   "name": "python3"
  },
  "language_info": {
   "codemirror_mode": {
    "name": "ipython",
    "version": 3
   },
   "file_extension": ".py",
   "mimetype": "text/x-python",
   "name": "python",
   "nbconvert_exporter": "python",
   "pygments_lexer": "ipython3",
   "version": "3.11.9"
  }
 },
 "nbformat": 4,
 "nbformat_minor": 2
}
