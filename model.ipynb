{
 "cells": [
  {
   "cell_type": "code",
   "execution_count": 13,
   "metadata": {},
   "outputs": [],
   "source": [
    "import numpy as np\n",
    "import pandas as pd\n",
    "from sklearn.pipeline import Pipeline\n",
    "from sklearn.model_selection  import train_test_split\n",
    "from sklearn.preprocessing import StandardScaler\n",
    "import math\n",
    "\n",
    "from sklearn.datasets import make_classification\n",
    "from sklearn.linear_model import LinearRegression\n"
   ]
  },
  {
   "cell_type": "code",
   "execution_count": 20,
   "metadata": {},
   "outputs": [
    {
     "name": "stdout",
     "output_type": "stream",
     "text": [
      "0.8440760748915863\n"
     ]
    }
   ],
   "source": [
    "#importing sample dataset\n",
    "X, y = make_classification(random_state=1)\n",
    "\n",
    "#Test/Train split, and creating pipeline object\n",
    "X_train, X_test, y_train, y_test = train_test_split(X, y, random_state=0)\n",
    "#In the array inside the function, you have a tuple, with index 0 of each tuple being the label of what your doing, \n",
    "# and index 1 of each tuple being the actual function.\n",
    "pipe = Pipeline([('scaler', StandardScaler()), ('linear_reg', LinearRegression())])\n",
    "\n",
    "#Fitting and then printing the accuracy score\n",
    "print(pipe.fit(X_train, y_train).score(X_test, y_test))"
   ]
  },
  {
   "cell_type": "code",
   "execution_count": 21,
   "metadata": {},
   "outputs": [
    {
     "name": "stdout",
     "output_type": "stream",
     "text": [
      "0.02440102495284202\n"
     ]
    }
   ],
   "source": [
    "#You can modify the parameters of the functions in the pipeline by calling label__parameter.\n",
    "#Ex. to adjust the fit_intercept variable of the LinearRegression() function, which has been assigned the label \"linear_reg\" in the pipeline:\n",
    "pipe = pipe.set_params(linear_reg__fit_intercept=False)\n",
    "print(pipe.fit(X_train, y_train).score(X_test, y_test))"
   ]
  },
  {
   "cell_type": "code",
   "execution_count": null,
   "metadata": {},
   "outputs": [],
   "source": []
  }
 ],
 "metadata": {
  "kernelspec": {
   "display_name": "Python 3",
   "language": "python",
   "name": "python3"
  },
  "language_info": {
   "codemirror_mode": {
    "name": "ipython",
    "version": 3
   },
   "file_extension": ".py",
   "mimetype": "text/x-python",
   "name": "python",
   "nbconvert_exporter": "python",
   "pygments_lexer": "ipython3",
   "version": "3.11.9"
  }
 },
 "nbformat": 4,
 "nbformat_minor": 2
}
